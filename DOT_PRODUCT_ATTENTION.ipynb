{
  "nbformat": 4,
  "nbformat_minor": 0,
  "metadata": {
    "colab": {
      "provenance": [],
      "authorship_tag": "ABX9TyP+5I4FaYoq16WCsUCEsxGF",
      "include_colab_link": true
    },
    "kernelspec": {
      "name": "python3",
      "display_name": "Python 3"
    },
    "language_info": {
      "name": "python"
    }
  },
  "cells": [
    {
      "cell_type": "markdown",
      "metadata": {
        "id": "view-in-github",
        "colab_type": "text"
      },
      "source": [
        "<a href=\"https://colab.research.google.com/github/pavansai26/Attention-mechanisms/blob/main/DOT_PRODUCT_ATTENTION.ipynb\" target=\"_parent\"><img src=\"https://colab.research.google.com/assets/colab-badge.svg\" alt=\"Open In Colab\"/></a>"
      ]
    },
    {
      "cell_type": "markdown",
      "source": [
        "#Attention mechanism: A technique in deep learning that allows models to focus on specific parts of the input, improving performance for tasks like machine translation, text summarization, and question answering.\n"
      ],
      "metadata": {
        "id": "90L2wBk3b3L8"
      }
    },
    {
      "cell_type": "markdown",
      "source": [
        "#Query, key, and value: The three essential components of attention"
      ],
      "metadata": {
        "id": "PRg-HXv7d8IX"
      }
    },
    {
      "cell_type": "markdown",
      "source": [
        "#Query:"
      ],
      "metadata": {
        "id": "CQej7YNceJ94"
      }
    },
    {
      "cell_type": "markdown",
      "source": [
        "#It represents what information the model is currently interested in and wants to understand.\n",
        "\n",
        "#Think of these queries as mini-questions the model asks about the input."
      ],
      "metadata": {
        "id": "8qFFH2xCePh1"
      }
    },
    {
      "cell_type": "markdown",
      "source": [
        "#Key:"
      ],
      "metadata": {
        "id": "kW4jqAjxe4Lr"
      }
    },
    {
      "cell_type": "markdown",
      "source": [
        "#Each key holds access to a piece of information in the input sequence."
      ],
      "metadata": {
        "id": "i0DONr-3e_JV"
      }
    },
    {
      "cell_type": "markdown",
      "source": [
        "#The keys tell the model where to find the relevant information it's seeking with the queries."
      ],
      "metadata": {
        "id": "0dR2ibW5fCH_"
      }
    },
    {
      "cell_type": "markdown",
      "source": [
        "# Value:"
      ],
      "metadata": {
        "id": "Jd4Lx3fyfZRu"
      }
    },
    {
      "cell_type": "markdown",
      "source": [
        "#It stores the actual information associated with each key."
      ],
      "metadata": {
        "id": "ew4_Ehj5ftm8"
      }
    },
    {
      "cell_type": "markdown",
      "source": [
        "#The values are ultimately what the model attends to based on the query-key matching.\n"
      ],
      "metadata": {
        "id": "JLeifdL7fynm"
      }
    },
    {
      "cell_type": "markdown",
      "source": [
        "#Advantages of Dot Product Attention:\n"
      ],
      "metadata": {
        "id": "nb8wmAI4guaE"
      }
    },
    {
      "cell_type": "markdown",
      "source": [
        "#Simple and efficient: Dot product attention has a straightforward implementation with relatively low computational cost, making it suitable for real-time applications.\n",
        "\n",
        "#Interpretability: The attention weights provide some interpretability, allowing you to see which parts of the input the model is focusing on.\n",
        "\n",
        "#Scalability: It can be easily scaled to larger datasets and longer sequences by increasing the number of heads and hidden dimensions.\n",
        "\n",
        "#Multiple heads: Supports multi-head attention, which allows the model to learn different representations from the input data simultaneously."
      ],
      "metadata": {
        "id": "8gUjG8VUg5ye"
      }
    },
    {
      "cell_type": "markdown",
      "source": [
        "#Disadvantages of Dot Product Attention:"
      ],
      "metadata": {
        "id": "iC50_1FWh8FX"
      }
    },
    {
      "cell_type": "markdown",
      "source": [
        "#Quadratic complexity with sequence length: The computational cost grows quadratically with the sequence length, which can be problematic for very long sequences.\n",
        "\n",
        "#Limited expressiveness: The dot product similarity measure may not capture complex relationships between queries and keys effectively.\n",
        "\n",
        "#Sensitivity to input scaling: The attention scores are sensitive to the scale of the input vectors, which can affect the model's performance.\n",
        "\n",
        "#No inherent positional encoding: The model might not capture the order of elements in the input sequence without additional positional encoding techniques."
      ],
      "metadata": {
        "id": "THQFS6yViHR4"
      }
    },
    {
      "cell_type": "code",
      "source": [
        "import numpy as np\n",
        "\n",
        "def dot_product_attention(query, key, value):\n",
        "    \"\"\"Dot product attention.\n",
        "\n",
        "    Args:\n",
        "        query: Query matrix of shape (batch_size, num_heads, seq_len, d_k).\n",
        "        key: Key matrix of shape (batch_size, num_heads, seq_len, d_k).\n",
        "        value: Value matrix of shape (batch_size, num_heads, seq_len, d_v).\n",
        "        mask: Optional mask tensor to prevent attention to certain positions.\n",
        "\n",
        "    Returns:\n",
        "        output: Attention output of shape (batch_size, num_heads, seq_len, d_v).\n",
        "        attention_weights: Attention weights of shape (batch_size, num_heads, seq_len, seq_len).\n",
        "    \"\"\"\n",
        "\n",
        "    # Scaled dot product attention\n",
        "    scores = np.matmul(query, key.transpose(0, 1, 3, 2)) / np.sqrt(query.shape[-1])\n",
        "\n",
        "\n",
        "\n",
        "    # Normalize scores with softmax\n",
        "    attention_weights = np.softmax(scores, axis=-1)\n",
        "\n",
        "    # Compute weighted sum of values\n",
        "    output = np.matmul(attention_weights, value)\n",
        "\n",
        "    return output, attention_weights\n"
      ],
      "metadata": {
        "id": "k4Z5yxkqfGxx"
      },
      "execution_count": 1,
      "outputs": []
    },
    {
      "cell_type": "code",
      "source": [],
      "metadata": {
        "id": "9i3hZOVsivkg"
      },
      "execution_count": null,
      "outputs": []
    }
  ]
}